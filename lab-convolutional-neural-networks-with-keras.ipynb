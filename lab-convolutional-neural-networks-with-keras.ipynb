{
  "cells": [
    {
      "cell_type": "markdown",
      "metadata": {
        "id": "JSj_FDQ_8BT8"
      },
      "source": [
        "In this lab, we will learn how to use the Keras library to build convolutional neural networks. We will also use the popular MNIST dataset and we will compare our results to using a conventional neural network.\n"
      ]
    },
    {
      "cell_type": "markdown",
      "metadata": {
        "id": "b99I1yiN8BT_"
      },
      "source": [
        "<h2>Convolutional Neural Networks with Keras</h2>\n",
        "\n",
        "<h3>Objective for this Notebook<h3>    \n",
        "<h5> 1. How to use the Keras library to build convolutional neural networks.</h5>\n",
        "<h5> 2. Convolutional Neural Network with One Convolutional and Pooling Layers.</h5>\n",
        "<h5> 3. Convolutional Neural Network with Two Convolutional and Pooling Layers.</h5>\n",
        "\n"
      ]
    },
    {
      "cell_type": "markdown",
      "metadata": {
        "id": "R4mFCoNs8BT_"
      },
      "source": [
        "## Table of Contents\n",
        "\n",
        "<div class=\"alert alert-block alert-info\" style=\"margin-top: 20px\">\n",
        "\n",
        "<font size = 3>\n",
        "      \n",
        "1. <a href=\"#item41\">Import Keras and Packages</a>   \n",
        "2. <a href=\"#item42\">Convolutional Neural Network with One Convolutional and Pooling Layers</a>  \n",
        "3. <a href=\"#item43\">Convolutional Neural Network with Two Convolutional and Pooling Layers</a>  \n",
        "\n",
        "</font>\n",
        "</div>\n"
      ]
    },
    {
      "cell_type": "markdown",
      "metadata": {
        "id": "y_sQWVfR8BT_"
      },
      "source": [
        "<a id='item41'></a>\n"
      ]
    },
    {
      "cell_type": "markdown",
      "metadata": {
        "id": "kCRrZBz78BUA"
      },
      "source": [
        "## Import Keras and Packages\n"
      ]
    },
    {
      "cell_type": "markdown",
      "metadata": {
        "id": "Sr5BxWHK8BUA"
      },
      "source": [
        "Let's start by importing the keras libraries and the packages that we would need to build a neural network.\n"
      ]
    },
    {
      "cell_type": "code",
      "execution_count": 1,
      "metadata": {
        "id": "JbrOKtik8BUA"
      },
      "outputs": [],
      "source": [
        "import keras\n",
        "from keras.models import Sequential\n",
        "from keras.layers import Dense\n",
        "from keras.utils import to_categorical"
      ]
    },
    {
      "cell_type": "code",
      "source": [
        "!pip install keras\n"
      ],
      "metadata": {
        "id": "C_Jyqgd9-BVM",
        "outputId": "f64989d2-f544-429b-eb66-4b6fc84b78ce",
        "colab": {
          "base_uri": "https://localhost:8080/"
        }
      },
      "execution_count": 3,
      "outputs": [
        {
          "output_type": "stream",
          "name": "stdout",
          "text": [
            "Requirement already satisfied: keras in /usr/local/lib/python3.10/dist-packages (2.15.0)\n"
          ]
        }
      ]
    },
    {
      "cell_type": "markdown",
      "metadata": {
        "id": "xpyC51ae8BUB"
      },
      "source": [
        "When working with convolutional neural networks in particular, we will need additional packages.\n"
      ]
    },
    {
      "cell_type": "code",
      "source": [
        "from keras.layers import Conv2D, MaxPooling2D, Flatten"
      ],
      "metadata": {
        "id": "rdKbduJj-Tch"
      },
      "execution_count": 10,
      "outputs": []
    },
    {
      "cell_type": "code",
      "execution_count": 4,
      "metadata": {
        "id": "mDpn4hdI8BUB",
        "outputId": "ee41c8b6-e306-432d-f15c-bb8ab6c40dc1",
        "colab": {
          "base_uri": "https://localhost:8080/",
          "height": 349
        }
      },
      "outputs": [
        {
          "output_type": "error",
          "ename": "ModuleNotFoundError",
          "evalue": "No module named 'keras.layers.convolutional'",
          "traceback": [
            "\u001b[0;31m---------------------------------------------------------------------------\u001b[0m",
            "\u001b[0;31mModuleNotFoundError\u001b[0m                       Traceback (most recent call last)",
            "\u001b[0;32m<ipython-input-4-2d6e161c9ce4>\u001b[0m in \u001b[0;36m<cell line: 1>\u001b[0;34m()\u001b[0m\n\u001b[0;32m----> 1\u001b[0;31m \u001b[0;32mfrom\u001b[0m \u001b[0mkeras\u001b[0m\u001b[0;34m.\u001b[0m\u001b[0mlayers\u001b[0m\u001b[0;34m.\u001b[0m\u001b[0mconvolutional\u001b[0m \u001b[0;32mimport\u001b[0m \u001b[0mConv2D\u001b[0m \u001b[0;31m# to add convolutional layers\u001b[0m\u001b[0;34m\u001b[0m\u001b[0;34m\u001b[0m\u001b[0m\n\u001b[0m\u001b[1;32m      2\u001b[0m \u001b[0;32mfrom\u001b[0m \u001b[0mkeras\u001b[0m\u001b[0;34m.\u001b[0m\u001b[0mlayers\u001b[0m\u001b[0;34m.\u001b[0m\u001b[0mconvolutional\u001b[0m \u001b[0;32mimport\u001b[0m \u001b[0mMaxPooling2D\u001b[0m \u001b[0;31m# to add pooling layers\u001b[0m\u001b[0;34m\u001b[0m\u001b[0;34m\u001b[0m\u001b[0m\n\u001b[1;32m      3\u001b[0m \u001b[0;32mfrom\u001b[0m \u001b[0mkeras\u001b[0m\u001b[0;34m.\u001b[0m\u001b[0mlayers\u001b[0m \u001b[0;32mimport\u001b[0m \u001b[0mFlatten\u001b[0m \u001b[0;31m# to flatten data for fully connected layers\u001b[0m\u001b[0;34m\u001b[0m\u001b[0;34m\u001b[0m\u001b[0m\n",
            "\u001b[0;31mModuleNotFoundError\u001b[0m: No module named 'keras.layers.convolutional'",
            "",
            "\u001b[0;31m---------------------------------------------------------------------------\u001b[0;32m\nNOTE: If your import is failing due to a missing package, you can\nmanually install dependencies using either !pip or !apt.\n\nTo view examples of installing some common dependencies, click the\n\"Open Examples\" button below.\n\u001b[0;31m---------------------------------------------------------------------------\u001b[0m\n"
          ],
          "errorDetails": {
            "actions": [
              {
                "action": "open_url",
                "actionText": "Open Examples",
                "url": "/notebooks/snippets/importing_libraries.ipynb"
              }
            ]
          }
        }
      ],
      "source": [
        "# from keras.layers.convolutional import Conv2D # to add convolutional layers\n",
        "# from keras.layers.convolutional import MaxPooling2D # to add pooling layers\n",
        "# from keras.layers import Flatten # to flatten data for fully connected layers"
      ]
    },
    {
      "cell_type": "markdown",
      "metadata": {
        "id": "MXKofDy-8BUB"
      },
      "source": [
        "<a id='item42'></a>\n"
      ]
    },
    {
      "cell_type": "markdown",
      "metadata": {
        "id": "3e7qM5px8BUB"
      },
      "source": [
        "## Convolutional Layer with One set of convolutional and pooling layers\n"
      ]
    },
    {
      "cell_type": "code",
      "execution_count": 11,
      "metadata": {
        "id": "H4La1ufg8BUB"
      },
      "outputs": [],
      "source": [
        "# import data\n",
        "from keras.datasets import mnist\n",
        "\n",
        "# load data\n",
        "(X_train, y_train), (X_test, y_test) = mnist.load_data()\n",
        "\n",
        "# reshape to be [samples][pixels][width][height]\n",
        "X_train = X_train.reshape(X_train.shape[0], 28, 28, 1).astype('float32')\n",
        "X_test = X_test.reshape(X_test.shape[0], 28, 28, 1).astype('float32')"
      ]
    },
    {
      "cell_type": "markdown",
      "metadata": {
        "id": "KBmeAwFe8BUB"
      },
      "source": [
        "Let's normalize the pixel values to be between 0 and 1\n"
      ]
    },
    {
      "cell_type": "code",
      "execution_count": 12,
      "metadata": {
        "id": "OIJmC6dD8BUB"
      },
      "outputs": [],
      "source": [
        "X_train = X_train / 255 # normalize training data\n",
        "X_test = X_test / 255 # normalize test data"
      ]
    },
    {
      "cell_type": "markdown",
      "metadata": {
        "id": "cKIbmMp48BUC"
      },
      "source": [
        "Next, let's convert the target variable into binary categories\n"
      ]
    },
    {
      "cell_type": "code",
      "execution_count": 13,
      "metadata": {
        "id": "JcS8kjmg8BUC"
      },
      "outputs": [],
      "source": [
        "y_train = to_categorical(y_train)\n",
        "y_test = to_categorical(y_test)\n",
        "\n",
        "num_classes = y_test.shape[1] # number of categories"
      ]
    },
    {
      "cell_type": "markdown",
      "metadata": {
        "id": "kXwng0kp8BUC"
      },
      "source": [
        "Next, let's define a function that creates our model. Let's start with one set of convolutional and pooling layers.\n"
      ]
    },
    {
      "cell_type": "code",
      "execution_count": 14,
      "metadata": {
        "id": "R4WXTFmw8BUC"
      },
      "outputs": [],
      "source": [
        "def convolutional_model():\n",
        "\n",
        "    # create model\n",
        "    model = Sequential()\n",
        "    model.add(Conv2D(16, (5, 5), strides=(1, 1), activation='relu', input_shape=(28, 28, 1)))\n",
        "    model.add(MaxPooling2D(pool_size=(2, 2), strides=(2, 2)))\n",
        "\n",
        "    model.add(Flatten())\n",
        "    model.add(Dense(100, activation='relu'))\n",
        "    model.add(Dense(num_classes, activation='softmax'))\n",
        "\n",
        "    # compile model\n",
        "    model.compile(optimizer='adam', loss='categorical_crossentropy',  metrics=['accuracy'])\n",
        "    return model"
      ]
    },
    {
      "cell_type": "markdown",
      "metadata": {
        "id": "Mpf4bLg_8BUC"
      },
      "source": [
        "Finally, let's call the function to create the model, and then let's train it and evaluate it.\n"
      ]
    },
    {
      "cell_type": "code",
      "execution_count": 15,
      "metadata": {
        "id": "S27njAjE8BUC",
        "outputId": "b30966da-daee-4349-cca6-34bc22bbe505",
        "colab": {
          "base_uri": "https://localhost:8080/"
        }
      },
      "outputs": [
        {
          "output_type": "stream",
          "name": "stdout",
          "text": [
            "Epoch 1/10\n",
            "300/300 - 24s - loss: 0.2868 - accuracy: 0.9220 - val_loss: 0.0931 - val_accuracy: 0.9719 - 24s/epoch - 80ms/step\n",
            "Epoch 2/10\n",
            "300/300 - 17s - loss: 0.0773 - accuracy: 0.9775 - val_loss: 0.0548 - val_accuracy: 0.9825 - 17s/epoch - 58ms/step\n",
            "Epoch 3/10\n",
            "300/300 - 18s - loss: 0.0551 - accuracy: 0.9834 - val_loss: 0.0454 - val_accuracy: 0.9841 - 18s/epoch - 59ms/step\n",
            "Epoch 4/10\n",
            "300/300 - 19s - loss: 0.0425 - accuracy: 0.9874 - val_loss: 0.0394 - val_accuracy: 0.9874 - 19s/epoch - 62ms/step\n",
            "Epoch 5/10\n",
            "300/300 - 18s - loss: 0.0348 - accuracy: 0.9897 - val_loss: 0.0371 - val_accuracy: 0.9873 - 18s/epoch - 60ms/step\n",
            "Epoch 6/10\n",
            "300/300 - 18s - loss: 0.0295 - accuracy: 0.9908 - val_loss: 0.0398 - val_accuracy: 0.9864 - 18s/epoch - 60ms/step\n",
            "Epoch 7/10\n",
            "300/300 - 19s - loss: 0.0235 - accuracy: 0.9929 - val_loss: 0.0361 - val_accuracy: 0.9879 - 19s/epoch - 64ms/step\n",
            "Epoch 8/10\n",
            "300/300 - 18s - loss: 0.0198 - accuracy: 0.9938 - val_loss: 0.0388 - val_accuracy: 0.9878 - 18s/epoch - 59ms/step\n",
            "Epoch 9/10\n",
            "300/300 - 17s - loss: 0.0174 - accuracy: 0.9946 - val_loss: 0.0362 - val_accuracy: 0.9890 - 17s/epoch - 57ms/step\n",
            "Epoch 10/10\n",
            "300/300 - 19s - loss: 0.0139 - accuracy: 0.9961 - val_loss: 0.0328 - val_accuracy: 0.9889 - 19s/epoch - 63ms/step\n",
            "Accuracy: 0.9889000058174133 \n",
            " Error: 1.109999418258667\n"
          ]
        }
      ],
      "source": [
        "# build the model\n",
        "model = convolutional_model()\n",
        "\n",
        "# fit the model\n",
        "model.fit(X_train, y_train, validation_data=(X_test, y_test), epochs=10, batch_size=200, verbose=2)\n",
        "\n",
        "# evaluate the model\n",
        "scores = model.evaluate(X_test, y_test, verbose=0)\n",
        "print(\"Accuracy: {} \\n Error: {}\".format(scores[1], 100-scores[1]*100))\n"
      ]
    },
    {
      "cell_type": "markdown",
      "metadata": {
        "id": "KGEmEwEw8BUC"
      },
      "source": [
        "------------------------------------------\n"
      ]
    },
    {
      "cell_type": "markdown",
      "metadata": {
        "id": "RtqzJ8W08BUC"
      },
      "source": [
        "<a id='item43'></a>\n"
      ]
    },
    {
      "cell_type": "markdown",
      "metadata": {
        "id": "jTSvnJDu8BUC"
      },
      "source": [
        "## Convolutional Layer with two sets of convolutional and pooling layers\n"
      ]
    },
    {
      "cell_type": "markdown",
      "metadata": {
        "id": "u-S1tDSd8BUC"
      },
      "source": [
        "Let's redefine our convolutional model so that it has two convolutional and pooling layers instead of just one layer of each.\n"
      ]
    },
    {
      "cell_type": "code",
      "execution_count": 18,
      "metadata": {
        "id": "mFemlIZ98BUC"
      },
      "outputs": [],
      "source": [
        "\n",
        "\n",
        "def convolutional_model():\n",
        "\n",
        "    # create model\n",
        "    model = Sequential()\n",
        "    model.add(Conv2D(16, (5, 5), strides=(1, 1), activation='relu', input_shape=(28, 28, 1)))\n",
        "    model.add(MaxPooling2D(pool_size=(2, 2), strides=(2, 2)))\n",
        "\n",
        "    model.add(Flatten())\n",
        "    model.add(Dense(100, activation='relu'))\n",
        "    model.add(Dense(num_classes, activation='softmax'))\n",
        "\n",
        "    # compile model\n",
        "    model.compile(optimizer='adam', loss='categorical_crossentropy',  metrics=['accuracy'])\n",
        "    return model"
      ]
    },
    {
      "cell_type": "markdown",
      "metadata": {
        "id": "DzV03jMg8BUC"
      },
      "source": [
        "Now, let's call the function to create our new convolutional neural network, and then let's train it and evaluate it.\n"
      ]
    },
    {
      "cell_type": "code",
      "execution_count": 19,
      "metadata": {
        "id": "QWliZYC48BUC",
        "outputId": "fd9a018c-1be1-4f90-b8bb-0d7da244836e",
        "colab": {
          "base_uri": "https://localhost:8080/"
        }
      },
      "outputs": [
        {
          "output_type": "stream",
          "name": "stdout",
          "text": [
            "Epoch 1/10\n",
            "300/300 - 19s - loss: 0.3303 - accuracy: 0.9058 - val_loss: 0.1559 - val_accuracy: 0.9506 - 19s/epoch - 65ms/step\n",
            "Epoch 2/10\n",
            "300/300 - 18s - loss: 0.1080 - accuracy: 0.9680 - val_loss: 0.0782 - val_accuracy: 0.9755 - 18s/epoch - 59ms/step\n",
            "Epoch 3/10\n",
            "300/300 - 18s - loss: 0.0658 - accuracy: 0.9805 - val_loss: 0.0587 - val_accuracy: 0.9819 - 18s/epoch - 59ms/step\n",
            "Epoch 4/10\n",
            "300/300 - 19s - loss: 0.0483 - accuracy: 0.9852 - val_loss: 0.0499 - val_accuracy: 0.9838 - 19s/epoch - 63ms/step\n",
            "Epoch 5/10\n",
            "300/300 - 18s - loss: 0.0389 - accuracy: 0.9883 - val_loss: 0.0438 - val_accuracy: 0.9857 - 18s/epoch - 59ms/step\n",
            "Epoch 6/10\n",
            "300/300 - 18s - loss: 0.0320 - accuracy: 0.9904 - val_loss: 0.0406 - val_accuracy: 0.9865 - 18s/epoch - 59ms/step\n",
            "Epoch 7/10\n",
            "300/300 - 19s - loss: 0.0260 - accuracy: 0.9923 - val_loss: 0.0438 - val_accuracy: 0.9854 - 19s/epoch - 62ms/step\n",
            "Epoch 8/10\n",
            "300/300 - 18s - loss: 0.0235 - accuracy: 0.9927 - val_loss: 0.0379 - val_accuracy: 0.9872 - 18s/epoch - 59ms/step\n",
            "Epoch 9/10\n",
            "300/300 - 18s - loss: 0.0195 - accuracy: 0.9939 - val_loss: 0.0436 - val_accuracy: 0.9861 - 18s/epoch - 59ms/step\n",
            "Epoch 10/10\n",
            "300/300 - 18s - loss: 0.0161 - accuracy: 0.9949 - val_loss: 0.0414 - val_accuracy: 0.9865 - 18s/epoch - 61ms/step\n",
            "Accuracy: 0.9865000247955322 \n",
            " Error: 1.3499975204467773\n"
          ]
        }
      ],
      "source": [
        "# build the model\n",
        "model = convolutional_model()\n",
        "\n",
        "# fit the model\n",
        "model.fit(X_train, y_train, validation_data=(X_test, y_test), epochs=10, batch_size=200, verbose=2)\n",
        "\n",
        "# evaluate the model\n",
        "scores = model.evaluate(X_test, y_test, verbose=0)\n",
        "print(\"Accuracy: {} \\n Error: {}\".format(scores[1], 100-scores[1]*100))"
      ]
    },
    {
      "cell_type": "markdown",
      "metadata": {
        "id": "xX5nyesK8BUC"
      },
      "source": [
        "### Thank you for completing this lab!"
      ]
    }
  ],
  "metadata": {
    "kernelspec": {
      "display_name": "Python 3 (ipykernel)",
      "language": "python",
      "name": "python3"
    },
    "language_info": {
      "codemirror_mode": {
        "name": "ipython",
        "version": 3
      },
      "file_extension": ".py",
      "mimetype": "text/x-python",
      "name": "python",
      "nbconvert_exporter": "python",
      "pygments_lexer": "ipython3",
      "version": "3.11.8"
    },
    "colab": {
      "provenance": []
    }
  },
  "nbformat": 4,
  "nbformat_minor": 0
}